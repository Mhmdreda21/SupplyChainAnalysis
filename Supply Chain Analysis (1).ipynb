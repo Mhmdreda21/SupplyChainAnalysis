{
 "cells": [
  {
   "cell_type": "code",
   "execution_count": 10,
   "metadata": {},
   "outputs": [],
   "source": [
    "### import Libraries"
   ]
  },
  {
   "cell_type": "code",
   "execution_count": 3,
   "metadata": {},
   "outputs": [],
   "source": [
    "import pandas as pd\n",
    "import numpy as np\n",
    "import matplotlib.pyplot as plt\n",
    "import seaborn as sns"
   ]
  },
  {
   "cell_type": "code",
   "execution_count": 11,
   "metadata": {},
   "outputs": [],
   "source": [
    "### Import Dataset in Data Frame"
   ]
  },
  {
   "cell_type": "code",
   "execution_count": 4,
   "metadata": {},
   "outputs": [],
   "source": [
    "Supply_Chain = pd.read_csv(\"supply_chain_data.csv\")"
   ]
  },
  {
   "cell_type": "code",
   "execution_count": null,
   "metadata": {},
   "outputs": [],
   "source": [
    "### Explore Data "
   ]
  },
  {
   "cell_type": "code",
   "execution_count": 6,
   "metadata": {},
   "outputs": [
    {
     "data": {
      "text/html": [
       "<div>\n",
       "<style scoped>\n",
       "    .dataframe tbody tr th:only-of-type {\n",
       "        vertical-align: middle;\n",
       "    }\n",
       "\n",
       "    .dataframe tbody tr th {\n",
       "        vertical-align: top;\n",
       "    }\n",
       "\n",
       "    .dataframe thead th {\n",
       "        text-align: right;\n",
       "    }\n",
       "</style>\n",
       "<table border=\"1\" class=\"dataframe\">\n",
       "  <thead>\n",
       "    <tr style=\"text-align: right;\">\n",
       "      <th></th>\n",
       "      <th>Product type</th>\n",
       "      <th>SKU</th>\n",
       "      <th>Price</th>\n",
       "      <th>Availability</th>\n",
       "      <th>Number of products sold</th>\n",
       "      <th>Revenue generated</th>\n",
       "      <th>Customer demographics</th>\n",
       "      <th>Stock levels</th>\n",
       "      <th>Lead times</th>\n",
       "      <th>Order quantities</th>\n",
       "      <th>...</th>\n",
       "      <th>Location</th>\n",
       "      <th>Lead time</th>\n",
       "      <th>Production volumes</th>\n",
       "      <th>Manufacturing lead time</th>\n",
       "      <th>Manufacturing costs</th>\n",
       "      <th>Inspection results</th>\n",
       "      <th>Defect rates</th>\n",
       "      <th>Transportation modes</th>\n",
       "      <th>Routes</th>\n",
       "      <th>Costs</th>\n",
       "    </tr>\n",
       "  </thead>\n",
       "  <tbody>\n",
       "    <tr>\n",
       "      <th>0</th>\n",
       "      <td>haircare</td>\n",
       "      <td>SKU0</td>\n",
       "      <td>69.808006</td>\n",
       "      <td>55</td>\n",
       "      <td>802</td>\n",
       "      <td>8661.996792</td>\n",
       "      <td>Non-binary</td>\n",
       "      <td>58</td>\n",
       "      <td>7</td>\n",
       "      <td>96</td>\n",
       "      <td>...</td>\n",
       "      <td>Mumbai</td>\n",
       "      <td>29</td>\n",
       "      <td>215</td>\n",
       "      <td>29</td>\n",
       "      <td>46.279879</td>\n",
       "      <td>Pending</td>\n",
       "      <td>0.226410</td>\n",
       "      <td>Road</td>\n",
       "      <td>Route B</td>\n",
       "      <td>187.752075</td>\n",
       "    </tr>\n",
       "    <tr>\n",
       "      <th>1</th>\n",
       "      <td>skincare</td>\n",
       "      <td>SKU1</td>\n",
       "      <td>14.843523</td>\n",
       "      <td>95</td>\n",
       "      <td>736</td>\n",
       "      <td>7460.900065</td>\n",
       "      <td>Female</td>\n",
       "      <td>53</td>\n",
       "      <td>30</td>\n",
       "      <td>37</td>\n",
       "      <td>...</td>\n",
       "      <td>Mumbai</td>\n",
       "      <td>23</td>\n",
       "      <td>517</td>\n",
       "      <td>30</td>\n",
       "      <td>33.616769</td>\n",
       "      <td>Pending</td>\n",
       "      <td>4.854068</td>\n",
       "      <td>Road</td>\n",
       "      <td>Route B</td>\n",
       "      <td>503.065579</td>\n",
       "    </tr>\n",
       "    <tr>\n",
       "      <th>2</th>\n",
       "      <td>haircare</td>\n",
       "      <td>SKU2</td>\n",
       "      <td>11.319683</td>\n",
       "      <td>34</td>\n",
       "      <td>8</td>\n",
       "      <td>9577.749626</td>\n",
       "      <td>Unknown</td>\n",
       "      <td>1</td>\n",
       "      <td>10</td>\n",
       "      <td>88</td>\n",
       "      <td>...</td>\n",
       "      <td>Mumbai</td>\n",
       "      <td>12</td>\n",
       "      <td>971</td>\n",
       "      <td>27</td>\n",
       "      <td>30.688019</td>\n",
       "      <td>Pending</td>\n",
       "      <td>4.580593</td>\n",
       "      <td>Air</td>\n",
       "      <td>Route C</td>\n",
       "      <td>141.920282</td>\n",
       "    </tr>\n",
       "    <tr>\n",
       "      <th>3</th>\n",
       "      <td>skincare</td>\n",
       "      <td>SKU3</td>\n",
       "      <td>61.163343</td>\n",
       "      <td>68</td>\n",
       "      <td>83</td>\n",
       "      <td>7766.836426</td>\n",
       "      <td>Non-binary</td>\n",
       "      <td>23</td>\n",
       "      <td>13</td>\n",
       "      <td>59</td>\n",
       "      <td>...</td>\n",
       "      <td>Kolkata</td>\n",
       "      <td>24</td>\n",
       "      <td>937</td>\n",
       "      <td>18</td>\n",
       "      <td>35.624741</td>\n",
       "      <td>Fail</td>\n",
       "      <td>4.746649</td>\n",
       "      <td>Rail</td>\n",
       "      <td>Route A</td>\n",
       "      <td>254.776159</td>\n",
       "    </tr>\n",
       "    <tr>\n",
       "      <th>4</th>\n",
       "      <td>skincare</td>\n",
       "      <td>SKU4</td>\n",
       "      <td>4.805496</td>\n",
       "      <td>26</td>\n",
       "      <td>871</td>\n",
       "      <td>2686.505152</td>\n",
       "      <td>Non-binary</td>\n",
       "      <td>5</td>\n",
       "      <td>3</td>\n",
       "      <td>56</td>\n",
       "      <td>...</td>\n",
       "      <td>Delhi</td>\n",
       "      <td>5</td>\n",
       "      <td>414</td>\n",
       "      <td>3</td>\n",
       "      <td>92.065161</td>\n",
       "      <td>Fail</td>\n",
       "      <td>3.145580</td>\n",
       "      <td>Air</td>\n",
       "      <td>Route A</td>\n",
       "      <td>923.440632</td>\n",
       "    </tr>\n",
       "    <tr>\n",
       "      <th>...</th>\n",
       "      <td>...</td>\n",
       "      <td>...</td>\n",
       "      <td>...</td>\n",
       "      <td>...</td>\n",
       "      <td>...</td>\n",
       "      <td>...</td>\n",
       "      <td>...</td>\n",
       "      <td>...</td>\n",
       "      <td>...</td>\n",
       "      <td>...</td>\n",
       "      <td>...</td>\n",
       "      <td>...</td>\n",
       "      <td>...</td>\n",
       "      <td>...</td>\n",
       "      <td>...</td>\n",
       "      <td>...</td>\n",
       "      <td>...</td>\n",
       "      <td>...</td>\n",
       "      <td>...</td>\n",
       "      <td>...</td>\n",
       "      <td>...</td>\n",
       "    </tr>\n",
       "    <tr>\n",
       "      <th>95</th>\n",
       "      <td>haircare</td>\n",
       "      <td>SKU95</td>\n",
       "      <td>77.903927</td>\n",
       "      <td>65</td>\n",
       "      <td>672</td>\n",
       "      <td>7386.363944</td>\n",
       "      <td>Unknown</td>\n",
       "      <td>15</td>\n",
       "      <td>14</td>\n",
       "      <td>26</td>\n",
       "      <td>...</td>\n",
       "      <td>Mumbai</td>\n",
       "      <td>18</td>\n",
       "      <td>450</td>\n",
       "      <td>26</td>\n",
       "      <td>58.890686</td>\n",
       "      <td>Pending</td>\n",
       "      <td>1.210882</td>\n",
       "      <td>Air</td>\n",
       "      <td>Route A</td>\n",
       "      <td>778.864241</td>\n",
       "    </tr>\n",
       "    <tr>\n",
       "      <th>96</th>\n",
       "      <td>cosmetics</td>\n",
       "      <td>SKU96</td>\n",
       "      <td>24.423131</td>\n",
       "      <td>29</td>\n",
       "      <td>324</td>\n",
       "      <td>7698.424766</td>\n",
       "      <td>Non-binary</td>\n",
       "      <td>67</td>\n",
       "      <td>2</td>\n",
       "      <td>32</td>\n",
       "      <td>...</td>\n",
       "      <td>Mumbai</td>\n",
       "      <td>28</td>\n",
       "      <td>648</td>\n",
       "      <td>28</td>\n",
       "      <td>17.803756</td>\n",
       "      <td>Pending</td>\n",
       "      <td>3.872048</td>\n",
       "      <td>Road</td>\n",
       "      <td>Route A</td>\n",
       "      <td>188.742141</td>\n",
       "    </tr>\n",
       "    <tr>\n",
       "      <th>97</th>\n",
       "      <td>haircare</td>\n",
       "      <td>SKU97</td>\n",
       "      <td>3.526111</td>\n",
       "      <td>56</td>\n",
       "      <td>62</td>\n",
       "      <td>4370.916580</td>\n",
       "      <td>Male</td>\n",
       "      <td>46</td>\n",
       "      <td>19</td>\n",
       "      <td>4</td>\n",
       "      <td>...</td>\n",
       "      <td>Mumbai</td>\n",
       "      <td>10</td>\n",
       "      <td>535</td>\n",
       "      <td>13</td>\n",
       "      <td>65.765156</td>\n",
       "      <td>Fail</td>\n",
       "      <td>3.376238</td>\n",
       "      <td>Road</td>\n",
       "      <td>Route A</td>\n",
       "      <td>540.132423</td>\n",
       "    </tr>\n",
       "    <tr>\n",
       "      <th>98</th>\n",
       "      <td>skincare</td>\n",
       "      <td>SKU98</td>\n",
       "      <td>19.754605</td>\n",
       "      <td>43</td>\n",
       "      <td>913</td>\n",
       "      <td>8525.952560</td>\n",
       "      <td>Female</td>\n",
       "      <td>53</td>\n",
       "      <td>1</td>\n",
       "      <td>27</td>\n",
       "      <td>...</td>\n",
       "      <td>Chennai</td>\n",
       "      <td>28</td>\n",
       "      <td>581</td>\n",
       "      <td>9</td>\n",
       "      <td>5.604691</td>\n",
       "      <td>Pending</td>\n",
       "      <td>2.908122</td>\n",
       "      <td>Rail</td>\n",
       "      <td>Route A</td>\n",
       "      <td>882.198864</td>\n",
       "    </tr>\n",
       "    <tr>\n",
       "      <th>99</th>\n",
       "      <td>haircare</td>\n",
       "      <td>SKU99</td>\n",
       "      <td>68.517833</td>\n",
       "      <td>17</td>\n",
       "      <td>627</td>\n",
       "      <td>9185.185829</td>\n",
       "      <td>Unknown</td>\n",
       "      <td>55</td>\n",
       "      <td>8</td>\n",
       "      <td>59</td>\n",
       "      <td>...</td>\n",
       "      <td>Chennai</td>\n",
       "      <td>29</td>\n",
       "      <td>921</td>\n",
       "      <td>2</td>\n",
       "      <td>38.072899</td>\n",
       "      <td>Fail</td>\n",
       "      <td>0.346027</td>\n",
       "      <td>Rail</td>\n",
       "      <td>Route B</td>\n",
       "      <td>210.743009</td>\n",
       "    </tr>\n",
       "  </tbody>\n",
       "</table>\n",
       "<p>100 rows × 24 columns</p>\n",
       "</div>"
      ],
      "text/plain": [
       "   Product type    SKU      Price  Availability  Number of products sold  \\\n",
       "0      haircare   SKU0  69.808006            55                      802   \n",
       "1      skincare   SKU1  14.843523            95                      736   \n",
       "2      haircare   SKU2  11.319683            34                        8   \n",
       "3      skincare   SKU3  61.163343            68                       83   \n",
       "4      skincare   SKU4   4.805496            26                      871   \n",
       "..          ...    ...        ...           ...                      ...   \n",
       "95     haircare  SKU95  77.903927            65                      672   \n",
       "96    cosmetics  SKU96  24.423131            29                      324   \n",
       "97     haircare  SKU97   3.526111            56                       62   \n",
       "98     skincare  SKU98  19.754605            43                      913   \n",
       "99     haircare  SKU99  68.517833            17                      627   \n",
       "\n",
       "    Revenue generated Customer demographics  Stock levels  Lead times  \\\n",
       "0         8661.996792            Non-binary            58           7   \n",
       "1         7460.900065                Female            53          30   \n",
       "2         9577.749626               Unknown             1          10   \n",
       "3         7766.836426            Non-binary            23          13   \n",
       "4         2686.505152            Non-binary             5           3   \n",
       "..                ...                   ...           ...         ...   \n",
       "95        7386.363944               Unknown            15          14   \n",
       "96        7698.424766            Non-binary            67           2   \n",
       "97        4370.916580                  Male            46          19   \n",
       "98        8525.952560                Female            53           1   \n",
       "99        9185.185829               Unknown            55           8   \n",
       "\n",
       "    Order quantities  ...  Location Lead time  Production volumes  \\\n",
       "0                 96  ...    Mumbai        29                 215   \n",
       "1                 37  ...    Mumbai        23                 517   \n",
       "2                 88  ...    Mumbai        12                 971   \n",
       "3                 59  ...   Kolkata        24                 937   \n",
       "4                 56  ...     Delhi         5                 414   \n",
       "..               ...  ...       ...       ...                 ...   \n",
       "95                26  ...    Mumbai        18                 450   \n",
       "96                32  ...    Mumbai        28                 648   \n",
       "97                 4  ...    Mumbai        10                 535   \n",
       "98                27  ...   Chennai        28                 581   \n",
       "99                59  ...   Chennai        29                 921   \n",
       "\n",
       "   Manufacturing lead time Manufacturing costs  Inspection results  \\\n",
       "0                       29           46.279879             Pending   \n",
       "1                       30           33.616769             Pending   \n",
       "2                       27           30.688019             Pending   \n",
       "3                       18           35.624741                Fail   \n",
       "4                        3           92.065161                Fail   \n",
       "..                     ...                 ...                 ...   \n",
       "95                      26           58.890686             Pending   \n",
       "96                      28           17.803756             Pending   \n",
       "97                      13           65.765156                Fail   \n",
       "98                       9            5.604691             Pending   \n",
       "99                       2           38.072899                Fail   \n",
       "\n",
       "    Defect rates  Transportation modes   Routes       Costs  \n",
       "0       0.226410                  Road  Route B  187.752075  \n",
       "1       4.854068                  Road  Route B  503.065579  \n",
       "2       4.580593                   Air  Route C  141.920282  \n",
       "3       4.746649                  Rail  Route A  254.776159  \n",
       "4       3.145580                   Air  Route A  923.440632  \n",
       "..           ...                   ...      ...         ...  \n",
       "95      1.210882                   Air  Route A  778.864241  \n",
       "96      3.872048                  Road  Route A  188.742141  \n",
       "97      3.376238                  Road  Route A  540.132423  \n",
       "98      2.908122                  Rail  Route A  882.198864  \n",
       "99      0.346027                  Rail  Route B  210.743009  \n",
       "\n",
       "[100 rows x 24 columns]"
      ]
     },
     "execution_count": 6,
     "metadata": {},
     "output_type": "execute_result"
    }
   ],
   "source": [
    "Supply_Chain"
   ]
  },
  {
   "cell_type": "code",
   "execution_count": 4,
   "metadata": {},
   "outputs": [
    {
     "data": {
      "text/html": [
       "<div>\n",
       "<style scoped>\n",
       "    .dataframe tbody tr th:only-of-type {\n",
       "        vertical-align: middle;\n",
       "    }\n",
       "\n",
       "    .dataframe tbody tr th {\n",
       "        vertical-align: top;\n",
       "    }\n",
       "\n",
       "    .dataframe thead th {\n",
       "        text-align: right;\n",
       "    }\n",
       "</style>\n",
       "<table border=\"1\" class=\"dataframe\">\n",
       "  <thead>\n",
       "    <tr style=\"text-align: right;\">\n",
       "      <th></th>\n",
       "      <th>Price</th>\n",
       "      <th>Availability</th>\n",
       "      <th>Number of products sold</th>\n",
       "      <th>Revenue generated</th>\n",
       "      <th>Stock levels</th>\n",
       "      <th>Lead times</th>\n",
       "      <th>Order quantities</th>\n",
       "      <th>Shipping times</th>\n",
       "      <th>Shipping costs</th>\n",
       "      <th>Lead time</th>\n",
       "      <th>Production volumes</th>\n",
       "      <th>Manufacturing lead time</th>\n",
       "      <th>Manufacturing costs</th>\n",
       "      <th>Defect rates</th>\n",
       "      <th>Costs</th>\n",
       "    </tr>\n",
       "  </thead>\n",
       "  <tbody>\n",
       "    <tr>\n",
       "      <th>count</th>\n",
       "      <td>100.000000</td>\n",
       "      <td>100.000000</td>\n",
       "      <td>100.000000</td>\n",
       "      <td>100.000000</td>\n",
       "      <td>100.000000</td>\n",
       "      <td>100.000000</td>\n",
       "      <td>100.000000</td>\n",
       "      <td>100.000000</td>\n",
       "      <td>100.000000</td>\n",
       "      <td>100.000000</td>\n",
       "      <td>100.000000</td>\n",
       "      <td>100.00000</td>\n",
       "      <td>100.000000</td>\n",
       "      <td>100.000000</td>\n",
       "      <td>100.000000</td>\n",
       "    </tr>\n",
       "    <tr>\n",
       "      <th>mean</th>\n",
       "      <td>49.462461</td>\n",
       "      <td>48.400000</td>\n",
       "      <td>460.990000</td>\n",
       "      <td>5776.048187</td>\n",
       "      <td>47.770000</td>\n",
       "      <td>15.960000</td>\n",
       "      <td>49.220000</td>\n",
       "      <td>5.750000</td>\n",
       "      <td>5.548149</td>\n",
       "      <td>17.080000</td>\n",
       "      <td>567.840000</td>\n",
       "      <td>14.77000</td>\n",
       "      <td>47.266693</td>\n",
       "      <td>2.277158</td>\n",
       "      <td>529.245782</td>\n",
       "    </tr>\n",
       "    <tr>\n",
       "      <th>std</th>\n",
       "      <td>31.168193</td>\n",
       "      <td>30.743317</td>\n",
       "      <td>303.780074</td>\n",
       "      <td>2732.841744</td>\n",
       "      <td>31.369372</td>\n",
       "      <td>8.785801</td>\n",
       "      <td>26.784429</td>\n",
       "      <td>2.724283</td>\n",
       "      <td>2.651376</td>\n",
       "      <td>8.846251</td>\n",
       "      <td>263.046861</td>\n",
       "      <td>8.91243</td>\n",
       "      <td>28.982841</td>\n",
       "      <td>1.461366</td>\n",
       "      <td>258.301696</td>\n",
       "    </tr>\n",
       "    <tr>\n",
       "      <th>min</th>\n",
       "      <td>1.699976</td>\n",
       "      <td>1.000000</td>\n",
       "      <td>8.000000</td>\n",
       "      <td>1061.618523</td>\n",
       "      <td>0.000000</td>\n",
       "      <td>1.000000</td>\n",
       "      <td>1.000000</td>\n",
       "      <td>1.000000</td>\n",
       "      <td>1.013487</td>\n",
       "      <td>1.000000</td>\n",
       "      <td>104.000000</td>\n",
       "      <td>1.00000</td>\n",
       "      <td>1.085069</td>\n",
       "      <td>0.018608</td>\n",
       "      <td>103.916248</td>\n",
       "    </tr>\n",
       "    <tr>\n",
       "      <th>25%</th>\n",
       "      <td>19.597823</td>\n",
       "      <td>22.750000</td>\n",
       "      <td>184.250000</td>\n",
       "      <td>2812.847151</td>\n",
       "      <td>16.750000</td>\n",
       "      <td>8.000000</td>\n",
       "      <td>26.000000</td>\n",
       "      <td>3.750000</td>\n",
       "      <td>3.540248</td>\n",
       "      <td>10.000000</td>\n",
       "      <td>352.000000</td>\n",
       "      <td>7.00000</td>\n",
       "      <td>22.983299</td>\n",
       "      <td>1.009650</td>\n",
       "      <td>318.778455</td>\n",
       "    </tr>\n",
       "    <tr>\n",
       "      <th>50%</th>\n",
       "      <td>51.239831</td>\n",
       "      <td>43.500000</td>\n",
       "      <td>392.500000</td>\n",
       "      <td>6006.352023</td>\n",
       "      <td>47.500000</td>\n",
       "      <td>17.000000</td>\n",
       "      <td>52.000000</td>\n",
       "      <td>6.000000</td>\n",
       "      <td>5.320534</td>\n",
       "      <td>18.000000</td>\n",
       "      <td>568.500000</td>\n",
       "      <td>14.00000</td>\n",
       "      <td>45.905622</td>\n",
       "      <td>2.141863</td>\n",
       "      <td>520.430444</td>\n",
       "    </tr>\n",
       "    <tr>\n",
       "      <th>75%</th>\n",
       "      <td>77.198228</td>\n",
       "      <td>75.000000</td>\n",
       "      <td>704.250000</td>\n",
       "      <td>8253.976921</td>\n",
       "      <td>73.000000</td>\n",
       "      <td>24.000000</td>\n",
       "      <td>71.250000</td>\n",
       "      <td>8.000000</td>\n",
       "      <td>7.601695</td>\n",
       "      <td>25.000000</td>\n",
       "      <td>797.000000</td>\n",
       "      <td>23.00000</td>\n",
       "      <td>68.621026</td>\n",
       "      <td>3.563995</td>\n",
       "      <td>763.078231</td>\n",
       "    </tr>\n",
       "    <tr>\n",
       "      <th>max</th>\n",
       "      <td>99.171329</td>\n",
       "      <td>100.000000</td>\n",
       "      <td>996.000000</td>\n",
       "      <td>9866.465458</td>\n",
       "      <td>100.000000</td>\n",
       "      <td>30.000000</td>\n",
       "      <td>96.000000</td>\n",
       "      <td>10.000000</td>\n",
       "      <td>9.929816</td>\n",
       "      <td>30.000000</td>\n",
       "      <td>985.000000</td>\n",
       "      <td>30.00000</td>\n",
       "      <td>99.466109</td>\n",
       "      <td>4.939255</td>\n",
       "      <td>997.413450</td>\n",
       "    </tr>\n",
       "  </tbody>\n",
       "</table>\n",
       "</div>"
      ],
      "text/plain": [
       "            Price  Availability  Number of products sold  Revenue generated  \\\n",
       "count  100.000000    100.000000               100.000000         100.000000   \n",
       "mean    49.462461     48.400000               460.990000        5776.048187   \n",
       "std     31.168193     30.743317               303.780074        2732.841744   \n",
       "min      1.699976      1.000000                 8.000000        1061.618523   \n",
       "25%     19.597823     22.750000               184.250000        2812.847151   \n",
       "50%     51.239831     43.500000               392.500000        6006.352023   \n",
       "75%     77.198228     75.000000               704.250000        8253.976921   \n",
       "max     99.171329    100.000000               996.000000        9866.465458   \n",
       "\n",
       "       Stock levels  Lead times  Order quantities  Shipping times  \\\n",
       "count    100.000000  100.000000        100.000000      100.000000   \n",
       "mean      47.770000   15.960000         49.220000        5.750000   \n",
       "std       31.369372    8.785801         26.784429        2.724283   \n",
       "min        0.000000    1.000000          1.000000        1.000000   \n",
       "25%       16.750000    8.000000         26.000000        3.750000   \n",
       "50%       47.500000   17.000000         52.000000        6.000000   \n",
       "75%       73.000000   24.000000         71.250000        8.000000   \n",
       "max      100.000000   30.000000         96.000000       10.000000   \n",
       "\n",
       "       Shipping costs   Lead time  Production volumes  \\\n",
       "count      100.000000  100.000000          100.000000   \n",
       "mean         5.548149   17.080000          567.840000   \n",
       "std          2.651376    8.846251          263.046861   \n",
       "min          1.013487    1.000000          104.000000   \n",
       "25%          3.540248   10.000000          352.000000   \n",
       "50%          5.320534   18.000000          568.500000   \n",
       "75%          7.601695   25.000000          797.000000   \n",
       "max          9.929816   30.000000          985.000000   \n",
       "\n",
       "       Manufacturing lead time  Manufacturing costs  Defect rates       Costs  \n",
       "count                100.00000           100.000000    100.000000  100.000000  \n",
       "mean                  14.77000            47.266693      2.277158  529.245782  \n",
       "std                    8.91243            28.982841      1.461366  258.301696  \n",
       "min                    1.00000             1.085069      0.018608  103.916248  \n",
       "25%                    7.00000            22.983299      1.009650  318.778455  \n",
       "50%                   14.00000            45.905622      2.141863  520.430444  \n",
       "75%                   23.00000            68.621026      3.563995  763.078231  \n",
       "max                   30.00000            99.466109      4.939255  997.413450  "
      ]
     },
     "execution_count": 4,
     "metadata": {},
     "output_type": "execute_result"
    }
   ],
   "source": [
    "    Supply_Chain.describe()"
   ]
  },
  {
   "cell_type": "code",
   "execution_count": 24,
   "metadata": {},
   "outputs": [
    {
     "name": "stdout",
     "output_type": "stream",
     "text": [
      "<class 'pandas.core.frame.DataFrame'>\n",
      "RangeIndex: 100 entries, 0 to 99\n",
      "Data columns (total 24 columns):\n",
      " #   Column                   Non-Null Count  Dtype  \n",
      "---  ------                   --------------  -----  \n",
      " 0   Product type             100 non-null    object \n",
      " 1   SKU                      100 non-null    object \n",
      " 2   Price                    100 non-null    float64\n",
      " 3   Availability             100 non-null    int64  \n",
      " 4   Number of products sold  100 non-null    int64  \n",
      " 5   Revenue generated        100 non-null    float64\n",
      " 6   Customer demographics    100 non-null    object \n",
      " 7   Stock levels             100 non-null    int64  \n",
      " 8   Lead times               100 non-null    int64  \n",
      " 9   Order quantities         100 non-null    int64  \n",
      " 10  Shipping times           100 non-null    int64  \n",
      " 11  Shipping carriers        100 non-null    object \n",
      " 12  Shipping costs           100 non-null    float64\n",
      " 13  Supplier name            100 non-null    object \n",
      " 14  Location                 100 non-null    object \n",
      " 15  Lead time                100 non-null    int64  \n",
      " 16  Production volumes       100 non-null    int64  \n",
      " 17  Manufacturing lead time  100 non-null    int64  \n",
      " 18  Manufacturing costs      100 non-null    float64\n",
      " 19  Inspection results       100 non-null    object \n",
      " 20  Defect rates             100 non-null    float64\n",
      " 21  Transportation modes     100 non-null    object \n",
      " 22  Routes                   100 non-null    object \n",
      " 23  Costs                    100 non-null    float64\n",
      "dtypes: float64(6), int64(9), object(9)\n",
      "memory usage: 18.9+ KB\n"
     ]
    }
   ],
   "source": [
    "Supply_Chain. info()"
   ]
  },
  {
   "cell_type": "code",
   "execution_count": 12,
   "metadata": {},
   "outputs": [],
   "source": [
    "###Check the null values"
   ]
  },
  {
   "cell_type": "code",
   "execution_count": 32,
   "metadata": {},
   "outputs": [
    {
     "data": {
      "text/plain": [
       "Product type               0\n",
       "SKU                        0\n",
       "Price                      0\n",
       "Availability               0\n",
       "Number of products sold    0\n",
       "Revenue generated          0\n",
       "Customer demographics      0\n",
       "Stock levels               0\n",
       "Lead times                 0\n",
       "Order quantities           0\n",
       "Shipping times             0\n",
       "Shipping carriers          0\n",
       "Shipping costs             0\n",
       "Supplier name              0\n",
       "Location                   0\n",
       "Lead time                  0\n",
       "Production volumes         0\n",
       "Manufacturing lead time    0\n",
       "Manufacturing costs        0\n",
       "Inspection results         0\n",
       "Defect rates               0\n",
       "Transportation modes       0\n",
       "Routes                     0\n",
       "Costs                      0\n",
       "dtype: int64"
      ]
     },
     "execution_count": 32,
     "metadata": {},
     "output_type": "execute_result"
    }
   ],
   "source": [
    "    Supply_Chain.isnull().sum()"
   ]
  },
  {
   "cell_type": "code",
   "execution_count": 13,
   "metadata": {},
   "outputs": [],
   "source": [
    "### Data cleaning"
   ]
  },
  {
   "cell_type": "code",
   "execution_count": 33,
   "metadata": {},
   "outputs": [
    {
     "name": "stdout",
     "output_type": "stream",
     "text": [
      "No duplicates\n"
     ]
    }
   ],
   "source": [
    "if Supply_Chain.duplicated().sum() > 0 :\n",
    "    print(\"there are duplicates\")\n",
    "else :\n",
    "    print(\"No duplicates\")"
   ]
  },
  {
   "cell_type": "code",
   "execution_count": 34,
   "metadata": {},
   "outputs": [
    {
     "data": {
      "image/png": "[encoded data removed]",
      "text/plain": [
       "<Figure size 576x432 with 1 Axes>"
      ]
     },
     "metadata": {
      "needs_background": "light"
     },
     "output_type": "display_data"
    }
   ],
   "source": [
    "plt.figure(figsize =(8,6))\n",
    "sns.boxplot(data=Supply_Chain , y = \"Stock levels\")\n",
    "plt.title(\"Box Plot For Stock Levels\")\n",
    "plt.ylabel(\"Stock Levels\")\n",
    "plt.show()"
   ]
  },
  {
   "cell_type": "code",
   "execution_count": 35,
   "metadata": {},
   "outputs": [],
   "source": [
    "### Analyze Data"
   ]
  },
  {
   "cell_type": "code",
   "execution_count": null,
   "metadata": {},
   "outputs": [],
   "source": [
    "## Descriptive Analysis"
   ]
  },
  {
   "cell_type": "code",
   "execution_count": 36,
   "metadata": {},
   "outputs": [
    {
     "data": {
      "text/plain": [
       "(            Price  Availability  Number of products sold  Revenue generated  \\\n",
       " count  100.000000    100.000000               100.000000         100.000000   \n",
       " mean    49.462461     48.400000               460.990000        5776.048187   \n",
       " std     31.168193     30.743317               303.780074        2732.841744   \n",
       " min      1.699976      1.000000                 8.000000        1061.618523   \n",
       " 25%     19.597823     22.750000               184.250000        2812.847151   \n",
       " 50%     51.239831     43.500000               392.500000        6006.352023   \n",
       " 75%     77.198228     75.000000               704.250000        8253.976921   \n",
       " max     99.171329    100.000000               996.000000        9866.465458   \n",
       " \n",
       "        Stock levels  Lead times  Order quantities  Shipping times  \\\n",
       " count    100.000000  100.000000        100.000000      100.000000   \n",
       " mean      47.770000   15.960000         49.220000        5.750000   \n",
       " std       31.369372    8.785801         26.784429        2.724283   \n",
       " min        0.000000    1.000000          1.000000        1.000000   \n",
       " 25%       16.750000    8.000000         26.000000        3.750000   \n",
       " 50%       47.500000   17.000000         52.000000        6.000000   \n",
       " 75%       73.000000   24.000000         71.250000        8.000000   \n",
       " max      100.000000   30.000000         96.000000       10.000000   \n",
       " \n",
       "        Shipping costs   Lead time  Production volumes  \\\n",
       " count      100.000000  100.000000          100.000000   \n",
       " mean         5.548149   17.080000          567.840000   \n",
       " std          2.651376    8.846251          263.046861   \n",
       " min          1.013487    1.000000          104.000000   \n",
       " 25%          3.540248   10.000000          352.000000   \n",
       " 50%          5.320534   18.000000          568.500000   \n",
       " 75%          7.601695   25.000000          797.000000   \n",
       " max          9.929816   30.000000          985.000000   \n",
       " \n",
       "        Manufacturing lead time  Manufacturing costs  Defect rates       Costs  \n",
       " count                100.00000           100.000000    100.000000  100.000000  \n",
       " mean                  14.77000            47.266693      2.277158  529.245782  \n",
       " std                    8.91243            28.982841      1.461366  258.301696  \n",
       " min                    1.00000             1.085069      0.018608  103.916248  \n",
       " 25%                    7.00000            22.983299      1.009650  318.778455  \n",
       " 50%                   14.00000            45.905622      2.141863  520.430444  \n",
       " 75%                   23.00000            68.621026      3.563995  763.078231  \n",
       " max                   30.00000            99.466109      4.939255  997.413450  ,\n",
       " Unknown       31\n",
       " Female        25\n",
       " Non-binary    23\n",
       " Male          21\n",
       " Name: Customer demographics, dtype: int64,\n",
       " skincare     40\n",
       " haircare     34\n",
       " cosmetics    26\n",
       " Name: Product type, dtype: int64)"
      ]
     },
     "execution_count": 36,
     "metadata": {},
     "output_type": "execute_result"
    }
   ],
   "source": [
    "# Generating summary statistics for the numerical columns in the dataset\n",
    "summary_statistics = Supply_Chain.describe()\n",
    "\n",
    "# Exploring the distribution of customer demographics and product types\n",
    "customer_demographics_dist = Supply_Chain['Customer demographics'].value_counts()\n",
    "product_type_dist = Supply_Chain['Product type'].value_counts()\n",
    "\n",
    "summary_statistics, customer_demographics_dist, product_type_dist\n"
   ]
  },
  {
   "cell_type": "code",
   "execution_count": null,
   "metadata": {},
   "outputs": [],
   "source": [
    "##Sales and Revenue Analysis"
   ]
  },
  {
   "cell_type": "code",
   "execution_count": 41,
   "metadata": {},
   "outputs": [
    {
     "data": {
      "text/plain": [
       "(      SKU Product type  Number of products sold\n",
       " 10  SKU10     skincare                      996\n",
       " 94  SKU94    cosmetics                      987\n",
       " 9    SKU9     skincare                      980\n",
       " 36  SKU36     skincare                      963\n",
       " 37  SKU37     skincare                      963\n",
       " 11  SKU11     skincare                      960\n",
       " 78  SKU78     haircare                      946\n",
       " 40  SKU40     skincare                      933\n",
       " 44  SKU44    cosmetics                      919\n",
       " 91  SKU91    cosmetics                      916,\n",
       "       SKU Product type  Revenue generated\n",
       " 51  SKU51     haircare        9866.465458\n",
       " 38  SKU38    cosmetics        9692.318040\n",
       " 31  SKU31     skincare        9655.135103\n",
       " 90  SKU90     skincare        9592.633570\n",
       " 2    SKU2     haircare        9577.749626\n",
       " 32  SKU32     skincare        9571.550487\n",
       " 67  SKU67     skincare        9473.798033\n",
       " 88  SKU88    cosmetics        9444.742033\n",
       " 52  SKU52     skincare        9435.762609\n",
       " 18  SKU18     haircare        9364.673505)"
      ]
     },
     "execution_count": 41,
     "metadata": {},
     "output_type": "execute_result"
    }
   ],
   "source": [
    "# Sorting the data by 'Number of products sold' and 'Revenue generated' to identify top-performing products\n",
    "top_selling_products = Supply_Chain[['SKU', 'Product type', 'Number of products sold']].sort_values(by='Number of products sold', ascending=False)\n",
    "top_revenue_products = Supply_Chain[['SKU', 'Product type', 'Revenue generated']].sort_values(by='Revenue generated', ascending=False)\n",
    "top_selling_products.head(10), top_revenue_products.head(10)"
   ]
  },
  {
   "cell_type": "code",
   "execution_count": 46,
   "metadata": {},
   "outputs": [
    {
     "data": {
      "text/plain": [
       "Product type\n",
       "cosmetics    161521.265999\n",
       "haircare     174455.390605\n",
       "skincare     241628.162133\n",
       "Name: Revenue generated, dtype: float64"
      ]
     },
     "execution_count": 46,
     "metadata": {},
     "output_type": "execute_result"
    }
   ],
   "source": [
    "# Calculating total revenue by product type to explore revenue distribution\n",
    "revenue_by_product_type = Supply_Chain.groupby('Product type')['Revenue generated'].sum()\n",
    "revenue_by_product_type"
   ]
  },
  {
   "cell_type": "code",
   "execution_count": null,
   "metadata": {},
   "outputs": [],
   "source": [
    "##Stock Levels vs. Availability Analysis"
   ]
  },
  {
   "cell_type": "code",
   "execution_count": 50,
   "metadata": {},
   "outputs": [
    {
     "data": {
      "image/png": "[encoded data removed]",
      "text/plain": [
       "<Figure size 720x432 with 1 Axes>"
      ]
     },
     "metadata": {
      "needs_background": "light"
     },
     "output_type": "display_data"
    }
   ],
   "source": [
    "# Scatter plot of Stock Levels vs. Availability\n",
    "plt.figure(figsize=(10, 6))\n",
    "plt.scatter(Supply_Chain['Stock levels'], Supply_Chain['Availability'], alpha=0.6)\n",
    "plt.title('Stock Levels vs. Availability')\n",
    "plt.xlabel('Stock Levels')\n",
    "plt.ylabel('Availability')\n",
    "plt.grid(True)\n",
    "plt.show()\n"
   ]
  },
  {
   "cell_type": "code",
   "execution_count": 52,
   "metadata": {},
   "outputs": [
    {
     "name": "stdout",
     "output_type": "stream",
     "text": [
      "Correlation between Stock Levels and Availability: -0.025899850730500686\n"
     ]
    }
   ],
   "source": [
    "# Calculate correlation coefficient between the Stock levels & Availability\n",
    "correlation = Supply_Chain['Stock levels'].corr(Supply_Chain['Availability'])\n",
    "print(f'Correlation between Stock Levels and Availability: {correlation}')\n"
   ]
  },
  {
   "cell_type": "code",
   "execution_count": null,
   "metadata": {},
   "outputs": [],
   "source": [
    "##Lead Time Impact Analysis"
   ]
  },
  {
   "cell_type": "code",
   "execution_count": 72,
   "metadata": {},
   "outputs": [
    {
     "data": {
      "text/plain": [
       "<Figure size 864x576 with 0 Axes>"
      ]
     },
     "metadata": {},
     "output_type": "display_data"
    },
    {
     "data": {
      "image/png": "[encoded data removed]",
      "text/plain": [
       "<Figure size 432x288 with 1 Axes>"
      ]
     },
     "metadata": {
      "needs_background": "light"
     },
     "output_type": "display_data"
    }
   ],
   "source": [
    "#Stock Levels by Lead Times\n",
    "plt.figure(figsize=(12, 8))\n",
    "Supply_Chain.boxplot(column='Stock levels', by='Lead times')\n",
    "plt.title('Stock Levels by Lead Times')\n",
    "plt.xlabel('Lead Times')\n",
    "plt.ylabel('Stock Levels')\n",
    "plt.grid(True)\n",
    "plt.show()\n"
   ]
  },
  {
   "cell_type": "code",
   "execution_count": 66,
   "metadata": {},
   "outputs": [
    {
     "name": "stdout",
     "output_type": "stream",
     "text": [
      "            Stock levels  Availability\n",
      "Lead times                            \n",
      "1              69.333333     44.666667\n",
      "2              76.333333     44.000000\n",
      "3               5.000000     26.000000\n",
      "4              52.500000     55.500000\n",
      "5              35.250000     47.000000\n",
      "6              44.500000     36.500000\n",
      "7              52.000000     26.666667\n",
      "8              33.800000     30.000000\n",
      "9              29.500000     29.000000\n",
      "10              5.333333     45.000000\n",
      "11             72.750000     47.500000\n",
      "12             18.500000     56.000000\n",
      "13             54.333333     40.666667\n",
      "14             28.666667     52.666667\n",
      "15             21.000000     51.000000\n",
      "16             63.000000     22.333333\n",
      "17             37.333333     62.000000\n",
      "18             36.500000     65.500000\n",
      "19             43.800000     38.600000\n",
      "20             53.000000     63.000000\n",
      "22             65.500000     50.500000\n",
      "23             30.400000     66.600000\n",
      "24             73.000000     57.666667\n",
      "25             60.600000     58.800000\n",
      "26             43.000000     66.800000\n",
      "27             47.000000     43.000000\n",
      "28             96.000000     14.000000\n",
      "29             63.400000     44.200000\n",
      "30             76.500000     68.000000\n"
     ]
    }
   ],
   "source": [
    "# Group by Lead Times and calculate average Stock Levels and Availability\n",
    "lead_time_analysis = Supply_Chain.groupby('Lead times')[['Stock levels', 'Availability']].mean()\n",
    "print(lead_time_analysis)\n"
   ]
  },
  {
   "cell_type": "code",
   "execution_count": null,
   "metadata": {},
   "outputs": [],
   "source": [
    "##Optimal Order Quantities Analysis"
   ]
  },
  {
   "cell_type": "code",
   "execution_count": 69,
   "metadata": {},
   "outputs": [
    {
     "name": "stdout",
     "output_type": "stream",
     "text": [
      "Number of products sold\n",
      "8      88.0\n",
      "24     52.0\n",
      "25     66.0\n",
      "29      9.0\n",
      "32     22.0\n",
      "       ... \n",
      "960    60.0\n",
      "963    24.5\n",
      "980    83.0\n",
      "987    72.0\n",
      "996    80.0\n",
      "Name: Order quantities, Length: 96, dtype: float64\n"
     ]
    }
   ],
   "source": [
    "# Calculate average order quantities for different demand levels\n",
    "order_quantity_analysis = Supply_Chain.groupby('Number of products sold')['Order quantities'].mean()\n",
    "print(order_quantity_analysis)\n"
   ]
  },
  {
   "cell_type": "code",
   "execution_count": 70,
   "metadata": {},
   "outputs": [
    {
     "data": {
      "image/png": "[encoded data removed]",
      "text/plain": [
       "<Figure size 720x432 with 1 Axes>"
      ]
     },
     "metadata": {
      "needs_background": "light"
     },
     "output_type": "display_data"
    }
   ],
   "source": [
    "# Scatter plot of Demand vs. Order Quantities\n",
    "plt.figure(figsize=(10, 6))\n",
    "plt.scatter(Supply_Chain['Number of products sold'], Supply_Chain['Order quantities'], alpha=0.6)\n",
    "plt.title('Demand vs. Order Quantities')\n",
    "plt.xlabel('Number of Products Sold')\n",
    "plt.ylabel('Order Quantities')\n",
    "plt.grid(True)\n",
    "plt.show()\n"
   ]
  },
  {
   "cell_type": "code",
   "execution_count": 73,
   "metadata": {},
   "outputs": [],
   "source": [
    "##Stockout and Overstock Analysis"
   ]
  },
  {
   "cell_type": "code",
   "execution_count": 75,
   "metadata": {},
   "outputs": [
    {
     "name": "stdout",
     "output_type": "stream",
     "text": [
      "   Product type    SKU      Price  Availability  Number of products sold  \\\n",
      "68     haircare  SKU68  37.931812            29                      163   \n",
      "\n",
      "    Revenue generated Customer demographics  Stock levels  Lead times  \\\n",
      "68        3550.218433            Non-binary             0           8   \n",
      "\n",
      "    Order quantities  ...   Location Lead time  Production volumes  \\\n",
      "68                58  ...  Bangalore         2                 375   \n",
      "\n",
      "   Manufacturing lead time Manufacturing costs  Inspection results  \\\n",
      "68                      18           97.113582                Fail   \n",
      "\n",
      "    Defect rates  Transportation modes   Routes       Costs  \n",
      "68      1.983468                  Rail  Route A  299.706303  \n",
      "\n",
      "[1 rows x 24 columns]\n"
     ]
    }
   ],
   "source": [
    "# Identify instances of stockouts\n",
    "stockouts = Supply_Chain[Supply_Chain['Stock levels'] == 0]\n",
    "print(stockouts)\n"
   ]
  },
  {
   "cell_type": "code",
   "execution_count": 76,
   "metadata": {},
   "outputs": [
    {
     "name": "stdout",
     "output_type": "stream",
     "text": [
      "   Product type    SKU      Price  Availability  Number of products sold  \\\n",
      "5      haircare   SKU5   1.699976            87                      147   \n",
      "7     cosmetics   SKU7  42.958384            59                      426   \n",
      "12     haircare  SKU12  71.213389            41                      336   \n",
      "13     skincare  SKU13  16.160393             5                      249   \n",
      "23    cosmetics  SKU23   4.324341            30                      391   \n",
      "25     haircare  SKU25  39.629344            73                      142   \n",
      "32     skincare  SKU32  79.209936            43                      781   \n",
      "39     skincare  SKU39  19.127477            26                      176   \n",
      "40     skincare  SKU40  80.541424            97                      933   \n",
      "45     haircare  SKU45  33.784138             1                       24   \n",
      "46     haircare  SKU46  27.082207            75                      859   \n",
      "49    cosmetics  SKU49  78.897913            19                       99   \n",
      "51     haircare  SKU51  26.700761            61                      154   \n",
      "53     skincare  SKU53  30.341471            93                      242   \n",
      "55     haircare  SKU55  79.855058            16                      701   \n",
      "59    cosmetics  SKU59  63.828398            30                      484   \n",
      "62    cosmetics  SKU62  72.796354            89                      270   \n",
      "69     skincare  SKU69  54.865529            62                      511   \n",
      "71    cosmetics  SKU71   6.381533            14                      637   \n",
      "77     haircare  SKU77  57.449743            14                      359   \n",
      "89    cosmetics  SKU89  97.760086            10                      134   \n",
      "91    cosmetics  SKU91  62.111965            90                      916   \n",
      "92    cosmetics  SKU92  47.714233            44                      276   \n",
      "94    cosmetics  SKU94   3.037689            97                      987   \n",
      "\n",
      "    Revenue generated Customer demographics  Stock levels  Lead times  \\\n",
      "5         2828.348746            Non-binary            90          27   \n",
      "7         8496.103813                Female            93          17   \n",
      "12        2873.741446               Unknown           100          30   \n",
      "13        4052.738416                  Male            80           8   \n",
      "23        8858.367571               Unknown            84           5   \n",
      "25        2174.777054                  Male            82          11   \n",
      "32        9571.550487               Unknown            89          13   \n",
      "39        1912.465663                Female            78          29   \n",
      "40        5724.959350                Female            90          20   \n",
      "45        5267.956808                  Male            93           7   \n",
      "46        2556.767361            Non-binary            92          29   \n",
      "49        8001.613207               Unknown            97          24   \n",
      "51        9866.465458                  Male           100           4   \n",
      "53        8232.334829                  Male            96          25   \n",
      "55        2925.675170                  Male            97          11   \n",
      "59        1061.618523            Non-binary           100          16   \n",
      "62        3899.746834               Unknown            86           2   \n",
      "69        1752.381087            Non-binary            95           1   \n",
      "71        8180.337085                Female            76           2   \n",
      "77        2483.760178               Unknown            96          28   \n",
      "89        5924.682567               Unknown            90           1   \n",
      "91        1935.206794                  Male            98          22   \n",
      "92        2100.129755                  Male            90          25   \n",
      "94        7888.356547               Unknown            77          26   \n",
      "\n",
      "    Order quantities  ...   Location Lead time  Production volumes  \\\n",
      "5                 66  ...  Bangalore        10                 104   \n",
      "7                 11  ...  Bangalore        22                 564   \n",
      "12                85  ...    Kolkata         3                 563   \n",
      "13                48  ...  Bangalore        23                 173   \n",
      "23                29  ...    Kolkata        11                 568   \n",
      "25                52  ...    Kolkata        19                 934   \n",
      "32                64  ...    Kolkata        30                 737   \n",
      "39                34  ...    Kolkata        30                 791   \n",
      "40                39  ...    Kolkata        18                 793   \n",
      "45                52  ...    Chennai        25                 794   \n",
      "46                 6  ...    Chennai        18                 870   \n",
      "49                 9  ...      Delhi        28                 177   \n",
      "51                52  ...  Bangalore        18                 673   \n",
      "53                54  ...      Delhi         1                 631   \n",
      "55                11  ...      Delhi        27                 918   \n",
      "59                26  ...    Kolkata        11                 176   \n",
      "62                40  ...     Mumbai        13                 751   \n",
      "69                27  ...    Kolkata         9                 862   \n",
      "71                26  ...  Bangalore         2                 258   \n",
      "77                57  ...    Kolkata        26                 334   \n",
      "89                27  ...    Kolkata        23                 370   \n",
      "91                85  ...      Delhi         5                 207   \n",
      "92                10  ...     Mumbai         4                 671   \n",
      "94                72  ...      Delhi        12                 908   \n",
      "\n",
      "   Manufacturing lead time Manufacturing costs  Inspection results  \\\n",
      "5                       17           56.766476                Fail   \n",
      "7                        1           99.466109                Fail   \n",
      "12                       3           32.321286                Fail   \n",
      "13                      10           97.829050             Pending   \n",
      "23                      29           98.609957             Pending   \n",
      "25                      23           78.280383             Pending   \n",
      "32                       7           29.692467                Pass   \n",
      "39                       6            9.005807                Fail   \n",
      "40                       1           88.179407             Pending   \n",
      "45                      25           66.312544                Pass   \n",
      "46                      23           77.322353             Pending   \n",
      "49                      28           14.147815                Pass   \n",
      "51                      28           14.190328             Pending   \n",
      "53                      17           83.344059             Pending   \n",
      "55                       5           30.323545                Fail   \n",
      "59                       4            1.900762                Fail   \n",
      "62                      14           21.048643                Pass   \n",
      "69                       7           77.627766             Pending   \n",
      "71                      10           30.661677             Pending   \n",
      "77                       5           42.952445                Pass   \n",
      "89                      11           46.603873             Pending   \n",
      "91                      28           39.772883             Pending   \n",
      "92                      29           62.612690                Pass   \n",
      "94                      14           60.387379                Pass   \n",
      "\n",
      "    Defect rates  Transportation modes   Routes       Costs  \n",
      "5       2.779194                  Road  Route A  235.461237  \n",
      "7       0.398177                  Road  Route C  802.056312  \n",
      "12      2.161254                  Road  Route B  402.968789  \n",
      "13      1.631074                  Road  Route B  547.241005  \n",
      "23      1.342292                  Rail  Route A  196.329446  \n",
      "25      3.797231                  Road  Route B  458.535946  \n",
      "32      1.946036                  Road  Route A  761.173910  \n",
      "39      1.451972                   Air  Route B  653.672995  \n",
      "40      4.213269                  Road  Route A  529.808724  \n",
      "45      3.219605                  Rail  Route A  495.305697  \n",
      "46      3.648611                  Road  Route B  380.435937  \n",
      "49      2.825814                  Rail  Route A  336.890169  \n",
      "51      1.772951                  Road  Route A  694.982318  \n",
      "53      1.410348                   Air  Route B  750.737841  \n",
      "55      4.548920                   Sea  Route B  323.012928  \n",
      "59      0.447194                   Air  Route A  312.574274  \n",
      "62      1.874001                   Sea  Route C  320.846516  \n",
      "69      1.362388                   Air  Route A  207.663206  \n",
      "71      2.078751                  Road  Route A  405.167068  \n",
      "77      3.055142                  Road  Route B  852.568099  \n",
      "89      1.907666                  Rail  Route B  517.499974  \n",
      "91      0.626002                  Rail  Route B  996.778315  \n",
      "92      0.333432                  Rail  Route B  230.092783  \n",
      "94      1.463607                  Rail  Route B  846.665257  \n",
      "\n",
      "[24 rows x 24 columns]\n"
     ]
    }
   ],
   "source": [
    "# Define a threshold for overstock, for example, 75th percentile of stock levels\n",
    "overstock_threshold = Supply_Chain['Stock levels'].quantile(0.75)\n",
    "overstock = Supply_Chain[Supply_Chain['Stock levels'] > overstock_threshold]\n",
    "print(overstock)\n"
   ]
  },
  {
   "cell_type": "code",
   "execution_count": 77,
   "metadata": {},
   "outputs": [],
   "source": [
    "###Cost Analysis"
   ]
  },
  {
   "cell_type": "code",
   "execution_count": 79,
   "metadata": {},
   "outputs": [],
   "source": [
    "##Cost Breakdown Analysis"
   ]
  },
  {
   "cell_type": "code",
   "execution_count": 82,
   "metadata": {},
   "outputs": [
    {
     "name": "stdout",
     "output_type": "stream",
     "text": [
      "Total Costs:\n",
      "Shipping costs           554.814907\n",
      "Manufacturing costs     4726.669324\n",
      "Costs                  52924.578216\n",
      "dtype: float64\n",
      "\n",
      "Average Costs:\n",
      "Shipping costs           5.548149\n",
      "Manufacturing costs     47.266693\n",
      "Costs                  529.245782\n",
      "dtype: float64\n"
     ]
    }
   ],
   "source": [
    "# Calculate total and average costs for each component\n",
    "total_costs = Supply_Chain[['Shipping costs', 'Manufacturing costs', 'Costs']].sum()\n",
    "average_costs = Supply_Chain[['Shipping costs', 'Manufacturing costs', 'Costs']].mean()\n",
    "\n",
    "print(\"Total Costs:\")\n",
    "print(total_costs)\n",
    "print(\"\\nAverage Costs:\")\n",
    "print(average_costs)"
   ]
  },
  {
   "cell_type": "code",
   "execution_count": 83,
   "metadata": {},
   "outputs": [
    {
     "data": {
      "image/png": "[encoded data removed]",
      "text/plain": [
       "<Figure size 864x576 with 4 Axes>"
      ]
     },
     "metadata": {
      "needs_background": "light"
     },
     "output_type": "display_data"
    }
   ],
   "source": [
    "# Plot the distribution of each cost component\n",
    "Supply_Chain[['Shipping costs', 'Manufacturing costs', 'Costs']].hist(bins=20, figsize=(12, 8))\n",
    "plt.suptitle('Distribution of Cost Components')\n",
    "plt.show()"
   ]
  },
  {
   "cell_type": "code",
   "execution_count": 84,
   "metadata": {},
   "outputs": [],
   "source": [
    "##Cost-to-Revenue Ratio Analysis"
   ]
  },
  {
   "cell_type": "code",
   "execution_count": 85,
   "metadata": {},
   "outputs": [
    {
     "name": "stdout",
     "output_type": "stream",
     "text": [
      "High Cost-to-Revenue Ratio Products:\n",
      "Empty DataFrame\n",
      "Columns: [SKU, Cost-to-Revenue Ratio]\n",
      "Index: []\n",
      "\n",
      "Low Cost-to-Revenue Ratio Products:\n",
      "      SKU  Cost-to-Revenue Ratio\n",
      "0    SKU0               0.021675\n",
      "1    SKU1               0.067427\n",
      "2    SKU2               0.014818\n",
      "3    SKU3               0.032803\n",
      "4    SKU4               0.343733\n",
      "..    ...                    ...\n",
      "95  SKU95               0.105446\n",
      "96  SKU96               0.024517\n",
      "97  SKU97               0.123574\n",
      "98  SKU98               0.103472\n",
      "99  SKU99               0.022944\n",
      "\n",
      "[100 rows x 2 columns]\n"
     ]
    }
   ],
   "source": [
    "# Calculate cost-to-revenue ratio for each product\n",
    "Supply_Chain['Cost-to-Revenue Ratio'] = Supply_Chain['Costs'] / Supply_Chain['Revenue generated']\n",
    "\n",
    "# Identify products with high or low cost-to-revenue ratios\n",
    "high_ratio_products = Supply_Chain[Supply_Chain['Cost-to-Revenue Ratio'] > 1]\n",
    "low_ratio_products = Supply_Chain[Supply_Chain['Cost-to-Revenue Ratio'] <= 1]\n",
    "\n",
    "print(\"High Cost-to-Revenue Ratio Products:\")\n",
    "print(high_ratio_products[['SKU', 'Cost-to-Revenue Ratio']])\n",
    "print(\"\\nLow Cost-to-Revenue Ratio Products:\")\n",
    "print(low_ratio_products[['SKU', 'Cost-to-Revenue Ratio']])"
   ]
  },
  {
   "cell_type": "code",
   "execution_count": 90,
   "metadata": {},
   "outputs": [
    {
     "data": {
      "image/png": "[encoded data removed]",
      "text/plain": [
       "<Figure size 720x432 with 1 Axes>"
      ]
     },
     "metadata": {
      "needs_background": "light"
     },
     "output_type": "display_data"
    }
   ],
   "source": [
    "# Plot the cost-to-revenue ratio\n",
    "plt.figure(figsize=(10, 6))\n",
    "plt.hist(Supply_Chain['Cost-to-Revenue Ratio'], bins=20)\n",
    "plt.title('Cost-to-Revenue Ratio Distribution')\n",
    "plt.xlabel('Cost-to-Revenue Ratio')\n",
    "plt.ylabel('Frequency')\n",
    "plt.grid(True)\n",
    "plt.show()"
   ]
  },
  {
   "cell_type": "code",
   "execution_count": 91,
   "metadata": {},
   "outputs": [],
   "source": [
    "##Shipping Cost Efficiency Analysis:"
   ]
  },
  {
   "cell_type": "code",
   "execution_count": 99,
   "metadata": {},
   "outputs": [
    {
     "name": "stdout",
     "output_type": "stream",
     "text": [
      "Average Shipping Costs by Carrier:\n",
      "Shipping carriers\n",
      "Carrier A    5.554923\n",
      "Carrier B    5.509247\n",
      "Carrier C    5.599292\n",
      "Name: Shipping costs, dtype: float64\n",
      "\n",
      "Average Shipping Costs by Transportation Mode:\n",
      "Transportation modes\n",
      "Air     6.017839\n",
      "Rail    5.469098\n",
      "Road    5.542115\n",
      "Sea     4.970294\n",
      "Name: Shipping costs, dtype: float64\n"
     ]
    }
   ],
   "source": [
    "# Calculate average shipping costs for each carrier and transportation mode\n",
    "avg_shipping_costs_carrier = Supply_Chain.groupby('Shipping carriers')['Shipping costs'].mean()\n",
    "avg_shipping_costs_mode = Supply_Chain.groupby('Transportation modes')['Shipping costs'].mean()\n",
    "\n",
    "print(\"Average Shipping Costs by Carrier:\")\n",
    "print(avg_shipping_costs_carrier)\n",
    "print(\"\\nAverage Shipping Costs by Transportation Mode:\")\n",
    "print(avg_shipping_costs_mode)"
   ]
  },
  {
   "cell_type": "code",
   "execution_count": 94,
   "metadata": {},
   "outputs": [
    {
     "data": {
      "image/png": "[encoded data removed]",
      "text/plain": [
       "<Figure size 720x432 with 1 Axes>"
      ]
     },
     "metadata": {
      "needs_background": "light"
     },
     "output_type": "display_data"
    }
   ],
   "source": [
    "# Scatter plot of Shipping Cost vs. Shipping Time\n",
    "plt.figure(figsize=(10, 6))\n",
    "plt.scatter(Supply_Chain['Shipping times'], Supply_Chain['Shipping costs'], alpha=0.6)\n",
    "plt.title('Shipping Cost vs. Shipping Time')\n",
    "plt.xlabel('Shipping Time (days)')\n",
    "plt.ylabel('Shipping Cost ($)')\n",
    "plt.grid(True)\n",
    "plt.show()\n"
   ]
  },
  {
   "cell_type": "code",
   "execution_count": 1,
   "metadata": {},
   "outputs": [],
   "source": [
    "##Supplier and Location Performance"
   ]
  },
  {
   "cell_type": "code",
   "execution_count": 2,
   "metadata": {},
   "outputs": [],
   "source": [
    "#Supplier Reliability"
   ]
  },
  {
   "cell_type": "code",
   "execution_count": 10,
   "metadata": {},
   "outputs": [
    {
     "data": {
      "image/png": "[encoded data removed]",
      "text/plain": [
       "<Figure size 864x576 with 1 Axes>"
      ]
     },
     "metadata": {
      "needs_background": "light"
     },
     "output_type": "display_data"
    }
   ],
   "source": [
    "# Group by Supplier to calculate average lead time, defect rate, and production volume\n",
    "supplier_performance = Supply_Chain.groupby('Supplier name')[['Lead times', 'Defect rates', 'Production volumes']].mean()\n",
    "\n",
    "# Plot Supplier Reliability (Lead time vs Defect rate with Production volume as bubble size)\n",
    "plt.figure(figsize=(12, 8))\n",
    "plt.scatter(supplier_performance['Lead times'], supplier_performance['Defect rates'], s=supplier_performance['Production volumes']*10, alpha=0.5)\n",
    "plt.title('Supplier Reliability: Lead Times vs Defect Rates')\n",
    "plt.xlabel('Average Lead Time (days)')\n",
    "plt.ylabel('Average Defect Rate (%)')\n",
    "plt.grid(True)\n",
    "plt.show()"
   ]
  },
  {
   "cell_type": "code",
   "execution_count": 11,
   "metadata": {},
   "outputs": [],
   "source": [
    "#Cost and Lead Time by Location"
   ]
  },
  {
   "cell_type": "code",
   "execution_count": 15,
   "metadata": {},
   "outputs": [
    {
     "data": {
      "image/png": "[encoded data removed]",
      "text/plain": [
       "<Figure size 864x432 with 1 Axes>"
      ]
     },
     "metadata": {
      "needs_background": "light"
     },
     "output_type": "display_data"
    }
   ],
   "source": [
    "# Group by Supplier Location to calculate average costs and lead times\n",
    "location_performance = Supply_Chain.groupby('Location')[['Manufacturing costs', 'Shipping costs', 'Lead times']].mean()\n",
    "\n",
    "# Bar plot for Costs and Lead Times by Location\n",
    "location_performance.plot(kind='bar', figsize=(12, 6))\n",
    "plt.title('Costs and Lead Times by Supplier Location')\n",
    "plt.ylabel('Average Values')\n",
    "plt.grid(True)\n",
    "plt.show()"
   ]
  },
  {
   "cell_type": "code",
   "execution_count": 16,
   "metadata": {},
   "outputs": [],
   "source": [
    "#Defect Rates by Supplier"
   ]
  },
  {
   "cell_type": "code",
   "execution_count": 19,
   "metadata": {},
   "outputs": [
    {
     "name": "stdout",
     "output_type": "stream",
     "text": [
      "Suppliers with High Defect Rates:\n",
      "Supplier name\n",
      "Supplier 5    2.665408\n",
      "Supplier 3    2.465786\n",
      "Supplier 2    2.362750\n",
      "Supplier 4    2.337397\n",
      "Supplier 1    1.803630\n",
      "Name: Defect rates, dtype: float64\n"
     ]
    },
    {
     "data": {
      "image/png": "[encoded data removed]",
      "text/plain": [
       "<Figure size 720x432 with 1 Axes>"
      ]
     },
     "metadata": {
      "needs_background": "light"
     },
     "output_type": "display_data"
    }
   ],
   "source": [
    "# Group by Supplier to calculate average defect rates\n",
    "defect_rate_by_supplier = Supply_Chain.groupby('Supplier name')['Defect rates'].mean()\n",
    "\n",
    "# Sort and display suppliers with highest defect rates\n",
    "high_defect_suppliers = defect_rate_by_supplier.sort_values(ascending=False)\n",
    "print(\"Suppliers with High Defect Rates:\")\n",
    "print(high_defect_suppliers.head(10))\n",
    "\n",
    "# Bar plot for defect rates by supplier\n",
    "high_defect_suppliers.head(10).plot(kind='bar', figsize=(10, 6), color='orange')\n",
    "plt.title('Top 10 Suppliers by Defect Rates')\n",
    "plt.ylabel('Average Defect Rate (%)')\n",
    "plt.grid(True)\n",
    "plt.show()"
   ]
  },
  {
   "cell_type": "code",
   "execution_count": 20,
   "metadata": {},
   "outputs": [],
   "source": [
    "#Supplier Contribution to Revenue"
   ]
  },
  {
   "cell_type": "code",
   "execution_count": 22,
   "metadata": {},
   "outputs": [
    {
     "data": {
      "image/png": "[encoded data removed]",
      "text/plain": [
       "<Figure size 864x432 with 1 Axes>"
      ]
     },
     "metadata": {
      "needs_background": "light"
     },
     "output_type": "display_data"
    }
   ],
   "source": [
    "# Group by Supplier to calculate total revenue\n",
    "revenue_by_supplier = Supply_Chain.groupby('Supplier name')['Revenue generated'].sum()\n",
    "\n",
    "# Bar plot for revenue by supplier\n",
    "revenue_by_supplier.sort_values(ascending=False).plot(kind='bar', figsize=(12, 6), color='green')\n",
    "plt.title('Total Revenue by Supplier')\n",
    "plt.ylabel('Total Revenue ($)')\n",
    "plt.grid(True)\n",
    "plt.show()"
   ]
  },
  {
   "cell_type": "code",
   "execution_count": 1,
   "metadata": {},
   "outputs": [],
   "source": [
    "##Quality and Defect Analysis"
   ]
  },
  {
   "cell_type": "code",
   "execution_count": 2,
   "metadata": {},
   "outputs": [],
   "source": [
    "#Defect Rate Distribution Across Product Types"
   ]
  },
  {
   "cell_type": "code",
   "execution_count": 6,
   "metadata": {},
   "outputs": [
    {
     "data": {
      "image/png": "[encoded data removed]",
      "text/plain": [
       "<Figure size 720x432 with 1 Axes>"
      ]
     },
     "metadata": {
      "needs_background": "light"
     },
     "output_type": "display_data"
    }
   ],
   "source": [
    "# Group by Product Type to calculate average defect rates\n",
    "defect_rate_by_product_type = Supply_Chain.groupby('Product type')['Defect rates'].mean()\n",
    "\n",
    "# Bar plot for defect rates by product type\n",
    "defect_rate_by_product_type.plot(kind='bar', figsize=(10, 6), color='yellow')\n",
    "plt.title('Average Defect Rates by Product Type')\n",
    "plt.xlabel('Product Type')\n",
    "plt.ylabel('Average Defect Rate (%)')\n",
    "plt.grid(True)\n",
    "plt.show()"
   ]
  },
  {
   "cell_type": "code",
   "execution_count": 7,
   "metadata": {},
   "outputs": [],
   "source": [
    "#Defect Rates by Supplier"
   ]
  },
  {
   "cell_type": "code",
   "execution_count": 8,
   "metadata": {},
   "outputs": [
    {
     "data": {
      "image/png": "[encoded data removed]",
      "text/plain": [
       "<Figure size 720x432 with 1 Axes>"
      ]
     },
     "metadata": {
      "needs_background": "light"
     },
     "output_type": "display_data"
    }
   ],
   "source": [
    "# Group by Supplier to calculate average defect rates\n",
    "defect_rate_by_supplier = Supply_Chain.groupby('Supplier name')['Defect rates'].mean()\n",
    "\n",
    "# Bar plot for defect rates by supplier\n",
    "defect_rate_by_supplier.sort_values(ascending=False).plot(kind='bar', figsize=(10, 6), color='orange')\n",
    "plt.title('Defect Rates by Supplier')\n",
    "plt.xlabel('Supplier')\n",
    "plt.ylabel('Average Defect Rate (%)')\n",
    "plt.grid(True)\n",
    "plt.show()"
   ]
  },
  {
   "cell_type": "code",
   "execution_count": 9,
   "metadata": {},
   "outputs": [],
   "source": [
    "#Impact of Defect Rates on Revenue"
   ]
  },
  {
   "cell_type": "code",
   "execution_count": 10,
   "metadata": {},
   "outputs": [
    {
     "data": {
      "image/png": "[encoded data removed]",
      "text/plain": [
       "<Figure size 720x432 with 1 Axes>"
      ]
     },
     "metadata": {
      "needs_background": "light"
     },
     "output_type": "display_data"
    },
    {
     "name": "stdout",
     "output_type": "stream",
     "text": [
      "Correlation between Defect Rates and Revenue: -0.12533504269473678\n"
     ]
    }
   ],
   "source": [
    "# Scatter plot of Defect Rates vs Revenue\n",
    "plt.figure(figsize=(10, 6))\n",
    "plt.scatter(Supply_Chain['Defect rates'], Supply_Chain['Revenue generated'], alpha=0.6, color='purple')\n",
    "plt.title('Defect Rates vs Revenue')\n",
    "plt.xlabel('Defect Rate (%)')\n",
    "plt.ylabel('Revenue Generated ($)')\n",
    "plt.grid(True)\n",
    "plt.show()\n",
    "\n",
    "# Calculate correlation between Defect Rates and Revenue\n",
    "correlation = Supply_Chain['Defect rates'].corr(Supply_Chain['Revenue generated'])\n",
    "print(f\"Correlation between Defect Rates and Revenue: {correlation}\")"
   ]
  },
  {
   "cell_type": "code",
   "execution_count": 11,
   "metadata": {},
   "outputs": [],
   "source": [
    "##Transportation and Logistics"
   ]
  },
  {
   "cell_type": "code",
   "execution_count": 12,
   "metadata": {},
   "outputs": [],
   "source": [
    "#Shipping Time Analysis"
   ]
  },
  {
   "cell_type": "code",
   "execution_count": 13,
   "metadata": {},
   "outputs": [
    {
     "data": {
      "image/png": "[encoded data removed]",
      "text/plain": [
       "<Figure size 720x432 with 1 Axes>"
      ]
     },
     "metadata": {
      "needs_background": "light"
     },
     "output_type": "display_data"
    },
    {
     "name": "stdout",
     "output_type": "stream",
     "text": [
      "Average Shipping Time: 5.75 days\n"
     ]
    }
   ],
   "source": [
    "# Plot the distribution of shipping times\n",
    "plt.figure(figsize=(10, 6))\n",
    "plt.hist(Supply_Chain['Shipping times'], bins=20, color='blue', alpha=0.7)\n",
    "plt.title('Shipping Time Distribution')\n",
    "plt.xlabel('Shipping Time (days)')\n",
    "plt.ylabel('Frequency')\n",
    "plt.grid(True)\n",
    "plt.show()\n",
    "\n",
    "# Calculate average shipping time\n",
    "average_shipping_time = Supply_Chain['Shipping times'].mean()\n",
    "print(f'Average Shipping Time: {average_shipping_time} days')"
   ]
  },
  {
   "cell_type": "code",
   "execution_count": 14,
   "metadata": {},
   "outputs": [],
   "source": [
    "#Shipping Cost vs. Time Efficiency"
   ]
  },
  {
   "cell_type": "code",
   "execution_count": 15,
   "metadata": {},
   "outputs": [
    {
     "data": {
      "image/png": "[encoded data removed]",
      "text/plain": [
       "<Figure size 720x432 with 1 Axes>"
      ]
     },
     "metadata": {
      "needs_background": "light"
     },
     "output_type": "display_data"
    },
    {
     "name": "stdout",
     "output_type": "stream",
     "text": [
      "Correlation between Shipping Time and Shipping Costs: 0.045108122997038556\n"
     ]
    }
   ],
   "source": [
    "# Scatter plot of Shipping Cost vs Shipping Time\n",
    "plt.figure(figsize=(10, 6))\n",
    "plt.scatter(Supply_Chain['Shipping times'], Supply_Chain['Shipping costs'], alpha=0.6, color='green')\n",
    "plt.title('Shipping Costs vs Shipping Times')\n",
    "plt.xlabel('Shipping Time (days)')\n",
    "plt.ylabel('Shipping Cost ($)')\n",
    "plt.grid(True)\n",
    "plt.show()\n",
    "\n",
    "# Calculate correlation between Shipping Time and Shipping Costs\n",
    "correlation_shipping = Supply_Chain['Shipping times'].corr(Supply_Chain['Shipping costs'])\n",
    "print(f'Correlation between Shipping Time and Shipping Costs: {correlation_shipping}')"
   ]
  },
  {
   "cell_type": "code",
   "execution_count": 16,
   "metadata": {},
   "outputs": [],
   "source": [
    "#Transportation Mode Analysis"
   ]
  },
  {
   "cell_type": "code",
   "execution_count": 17,
   "metadata": {},
   "outputs": [
    {
     "data": {
      "image/png": "[encoded data removed]",
      "text/plain": [
       "<Figure size 864x432 with 1 Axes>"
      ]
     },
     "metadata": {
      "needs_background": "light"
     },
     "output_type": "display_data"
    }
   ],
   "source": [
    "# Group by Transportation Mode to calculate average shipping costs and times\n",
    "transport_mode_performance = Supply_Chain.groupby('Transportation modes')[['Shipping costs', 'Shipping times']].mean()\n",
    "\n",
    "# Bar plot for transportation mode performance\n",
    "transport_mode_performance.plot(kind='bar', figsize=(12, 6))\n",
    "plt.title('Performance of Different Transportation Modes')\n",
    "plt.xlabel('Transportation Mode')\n",
    "plt.ylabel('Average Value')\n",
    "plt.grid(True)\n",
    "plt.show()"
   ]
  },
  {
   "cell_type": "code",
   "execution_count": 18,
   "metadata": {},
   "outputs": [],
   "source": [
    "#Carrier Performance Analysis"
   ]
  },
  {
   "cell_type": "code",
   "execution_count": 19,
   "metadata": {
    "scrolled": false
   },
   "outputs": [
    {
     "data": {
      "image/png": "[encoded data removed]",
      "text/plain": [
       "<Figure size 864x432 with 1 Axes>"
      ]
     },
     "metadata": {
      "needs_background": "light"
     },
     "output_type": "display_data"
    }
   ],
   "source": [
    "# Group by Shipping Carrier to calculate average shipping costs and times\n",
    "carrier_performance = Supply_Chain.groupby('Shipping carriers')[['Shipping costs', 'Shipping times']].mean()\n",
    "\n",
    "# Bar plot for shipping carrier performance\n",
    "carrier_performance.plot(kind='bar', figsize=(12, 6), color=['blue', 'orange'])\n",
    "plt.title('Shipping Carrier Performance: Cost and Time')\n",
    "plt.xlabel('Shipping Carrier')\n",
    "plt.ylabel('Average Value')\n",
    "plt.grid(True)\n",
    "plt.show()"
   ]
  },
  {
   "cell_type": "code",
   "execution_count": null,
   "metadata": {},
   "outputs": [],
   "source": []
  }
 ],
 "metadata": {
  "kernelspec": {
   "display_name": "Python 3",
   "language": "python",
   "name": "python3"
  },
  "language_info": {
   "codemirror_mode": {
    "name": "ipython",
    "version": 3
   },
   "file_extension": ".py",
   "mimetype": "text/x-python",
   "name": "python",
   "nbconvert_exporter": "python",
   "pygments_lexer": "ipython3",
   "version": "3.8.5"
  }
 },
 "nbformat": 4,
 "nbformat_minor": 4
}
